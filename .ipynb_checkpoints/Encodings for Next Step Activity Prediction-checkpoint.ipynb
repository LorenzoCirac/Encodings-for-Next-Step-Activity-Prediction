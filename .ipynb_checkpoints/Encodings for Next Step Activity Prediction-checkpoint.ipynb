{
 "cells": [
  {
   "cell_type": "markdown",
   "id": "547bf80b-a46e-494b-aa0f-2eea3a231135",
   "metadata": {},
   "source": [
    "<h1>Encodings for Next Step Activity Prediction</h1>\n",
    "<br/>\n",
    "<h5>Lorenzo Manuel Cirac Monteagudo</h5>\n",
    "<h5>Supervisor: Ana Luisa Oliveira da Nobrega Costa</h5>\n",
    "<h5>Chair: Information Systems</h5>\n",
    "<h5>TUM School of Computation, Information and Technology</h5>\n",
    "<br/>"
   ]
  },
  {
   "cell_type": "markdown",
   "id": "63e0cad7-2b33-467d-afe5-c3b1f4dedd48",
   "metadata": {},
   "source": [
    "<h3>Dataset Information</h3>\n",
    "<p>Helpdesk dataset: <a href=\"https://github.com/ERamaM/PredictiveMonitoringDatasets/tree/master/raw_datasets\">https://github.com/ERamaM/PredictiveMonitoringDatasets/tree/master/raw_datasets</a></p>\n",
    "<p>This event log contains data of a ticketing management process\n",
    "form an Italian software company</p>"
   ]
  },
  {
   "cell_type": "code",
   "execution_count": 1,
   "id": "d2d7b03e-26ef-402a-aeb5-56daffd660c7",
   "metadata": {},
   "outputs": [],
   "source": [
    "import pandas as pd\n",
    "import numpy as np\n",
    "import matplotlib.pyplot as plt"
   ]
  },
  {
   "cell_type": "code",
   "execution_count": 2,
   "id": "5b12d12d-ed22-4b7d-a573-3b0a274d1440",
   "metadata": {},
   "outputs": [
    {
     "data": {
      "application/vnd.jupyter.widget-view+json": {
       "model_id": "6d5ededc140745c59c4e36b58e7ddede",
       "version_major": 2,
       "version_minor": 0
      },
      "text/plain": [
       "parsing log, completed traces ::   0%|          | 0/4580 [00:00<?, ?it/s]"
      ]
     },
     "metadata": {},
     "output_type": "display_data"
    }
   ],
   "source": [
    "from pm4py.objects.conversion.log import converter as xes_converter\n",
    "from pm4py.objects.log.importer.xes import importer as xes_importer\n",
    "\n",
    "log = xes_importer.apply(\"data/helpdesk\")\n",
    "df = xes_converter.apply(log, variant=xes_converter.Variants.TO_DATA_FRAME)"
   ]
  },
  {
   "cell_type": "markdown",
   "id": "506c5477-2f0f-4ddc-8622-559354d86200",
   "metadata": {},
   "source": [
    "<h3>Dataset Exploration</h3>"
   ]
  },
  {
   "cell_type": "code",
   "execution_count": 3,
   "id": "99522fc3-6ecf-400e-b46d-35e4f535d515",
   "metadata": {},
   "outputs": [
    {
     "name": "stdout",
     "output_type": "stream",
     "text": [
      "<class 'pandas.core.frame.DataFrame'>\n",
      "RangeIndex: 21348 entries, 0 to 21347\n",
      "Data columns (total 10 columns):\n",
      " #   Column                Non-Null Count  Dtype              \n",
      "---  ------                --------------  -----              \n",
      " 0   concept:name          21348 non-null  object             \n",
      " 1   lifecycle:transition  21348 non-null  object             \n",
      " 2   org:resource          21348 non-null  object             \n",
      " 3   time:timestamp        21348 non-null  datetime64[ns, UTC]\n",
      " 4   Activity              21348 non-null  object             \n",
      " 5   Resource              21348 non-null  object             \n",
      " 6   case:concept:name     21348 non-null  object             \n",
      " 7   case:variant          21348 non-null  object             \n",
      " 8   case:variant-index    21348 non-null  int64              \n",
      " 9   case:creator          21348 non-null  object             \n",
      "dtypes: datetime64[ns, UTC](1), int64(1), object(8)\n",
      "memory usage: 1.6+ MB\n"
     ]
    }
   ],
   "source": [
    "df.info()"
   ]
  },
  {
   "cell_type": "code",
   "execution_count": 4,
   "id": "ac032c4f-1e11-4427-9e95-653a7892e4bc",
   "metadata": {},
   "outputs": [
    {
     "data": {
      "text/html": [
       "<div>\n",
       "<style scoped>\n",
       "    .dataframe tbody tr th:only-of-type {\n",
       "        vertical-align: middle;\n",
       "    }\n",
       "\n",
       "    .dataframe tbody tr th {\n",
       "        vertical-align: top;\n",
       "    }\n",
       "\n",
       "    .dataframe thead th {\n",
       "        text-align: right;\n",
       "    }\n",
       "</style>\n",
       "<table border=\"1\" class=\"dataframe\">\n",
       "  <thead>\n",
       "    <tr style=\"text-align: right;\">\n",
       "      <th></th>\n",
       "      <th>concept:name</th>\n",
       "      <th>lifecycle:transition</th>\n",
       "      <th>org:resource</th>\n",
       "      <th>time:timestamp</th>\n",
       "      <th>Activity</th>\n",
       "      <th>Resource</th>\n",
       "      <th>case:concept:name</th>\n",
       "      <th>case:variant</th>\n",
       "      <th>case:variant-index</th>\n",
       "      <th>case:creator</th>\n",
       "    </tr>\n",
       "  </thead>\n",
       "  <tbody>\n",
       "    <tr>\n",
       "      <th>0</th>\n",
       "      <td>Assign seriousness</td>\n",
       "      <td>complete</td>\n",
       "      <td>Value 2</td>\n",
       "      <td>2010-01-13 08:40:25+00:00</td>\n",
       "      <td>Assign seriousness</td>\n",
       "      <td>Value 2</td>\n",
       "      <td>Case3608</td>\n",
       "      <td>Variant 33</td>\n",
       "      <td>33</td>\n",
       "      <td>Fluxicon Disco</td>\n",
       "    </tr>\n",
       "    <tr>\n",
       "      <th>1</th>\n",
       "      <td>Take in charge ticket</td>\n",
       "      <td>complete</td>\n",
       "      <td>Value 2</td>\n",
       "      <td>2010-01-29 08:52:27+00:00</td>\n",
       "      <td>Take in charge ticket</td>\n",
       "      <td>Value 2</td>\n",
       "      <td>Case3608</td>\n",
       "      <td>Variant 33</td>\n",
       "      <td>33</td>\n",
       "      <td>Fluxicon Disco</td>\n",
       "    </tr>\n",
       "    <tr>\n",
       "      <th>2</th>\n",
       "      <td>Resolve ticket</td>\n",
       "      <td>complete</td>\n",
       "      <td>Value 2</td>\n",
       "      <td>2010-01-29 08:52:34+00:00</td>\n",
       "      <td>Resolve ticket</td>\n",
       "      <td>Value 2</td>\n",
       "      <td>Case3608</td>\n",
       "      <td>Variant 33</td>\n",
       "      <td>33</td>\n",
       "      <td>Fluxicon Disco</td>\n",
       "    </tr>\n",
       "    <tr>\n",
       "      <th>3</th>\n",
       "      <td>Closed</td>\n",
       "      <td>complete</td>\n",
       "      <td>Value 5</td>\n",
       "      <td>2010-02-13 08:52:48+00:00</td>\n",
       "      <td>Closed</td>\n",
       "      <td>Value 5</td>\n",
       "      <td>Case3608</td>\n",
       "      <td>Variant 33</td>\n",
       "      <td>33</td>\n",
       "      <td>Fluxicon Disco</td>\n",
       "    </tr>\n",
       "    <tr>\n",
       "      <th>4</th>\n",
       "      <td>Closed</td>\n",
       "      <td>complete</td>\n",
       "      <td>Value 5</td>\n",
       "      <td>2010-02-13 08:52:48+00:00</td>\n",
       "      <td>Closed</td>\n",
       "      <td>Value 5</td>\n",
       "      <td>Case3608</td>\n",
       "      <td>Variant 33</td>\n",
       "      <td>33</td>\n",
       "      <td>Fluxicon Disco</td>\n",
       "    </tr>\n",
       "  </tbody>\n",
       "</table>\n",
       "</div>"
      ],
      "text/plain": [
       "            concept:name lifecycle:transition org:resource  \\\n",
       "0     Assign seriousness             complete      Value 2   \n",
       "1  Take in charge ticket             complete      Value 2   \n",
       "2         Resolve ticket             complete      Value 2   \n",
       "3                 Closed             complete      Value 5   \n",
       "4                 Closed             complete      Value 5   \n",
       "\n",
       "             time:timestamp               Activity Resource case:concept:name  \\\n",
       "0 2010-01-13 08:40:25+00:00     Assign seriousness  Value 2          Case3608   \n",
       "1 2010-01-29 08:52:27+00:00  Take in charge ticket  Value 2          Case3608   \n",
       "2 2010-01-29 08:52:34+00:00         Resolve ticket  Value 2          Case3608   \n",
       "3 2010-02-13 08:52:48+00:00                 Closed  Value 5          Case3608   \n",
       "4 2010-02-13 08:52:48+00:00                 Closed  Value 5          Case3608   \n",
       "\n",
       "  case:variant  case:variant-index    case:creator  \n",
       "0   Variant 33                  33  Fluxicon Disco  \n",
       "1   Variant 33                  33  Fluxicon Disco  \n",
       "2   Variant 33                  33  Fluxicon Disco  \n",
       "3   Variant 33                  33  Fluxicon Disco  \n",
       "4   Variant 33                  33  Fluxicon Disco  "
      ]
     },
     "execution_count": 4,
     "metadata": {},
     "output_type": "execute_result"
    }
   ],
   "source": [
    "df.head()"
   ]
  },
  {
   "cell_type": "code",
   "execution_count": 5,
   "id": "d3975a8e-2e01-4312-b785-62ab59de2c0d",
   "metadata": {},
   "outputs": [
    {
     "data": {
      "image/png": "[encoded data removed]",
      "text/plain": [
       "<Figure size 1200x600 with 1 Axes>"
      ]
     },
     "metadata": {},
     "output_type": "display_data"
    }
   ],
   "source": [
    "case_lengths = df.groupby(\"case:concept:name\").size()\n",
    "\n",
    "plt.figure(figsize = (12, 6))\n",
    "plt.hist(case_lengths, bins = 12)\n",
    "plt.title(\"Distribution of Events per Case\")\n",
    "plt.xlabel(\"Number of Events\")\n",
    "plt.ylabel(\"Number of Cases\")\n",
    "plt.show()"
   ]
  },
  {
   "cell_type": "markdown",
   "id": "9e49bfea-f1fb-45e7-8699-081466ef62cc",
   "metadata": {},
   "source": [
    "<h3>Feature Selection</h3>"
   ]
  },
  {
   "cell_type": "code",
   "execution_count": 6,
   "id": "064989bf-9d21-4790-9486-9da5c85ff86c",
   "metadata": {},
   "outputs": [],
   "source": [
    "# Feature Selection\n",
    "df = df.rename(columns = {\n",
    "    \"concept:name\": \"activity\",\n",
    "    \"org:resource\": \"resource\",\n",
    "    \"time:timestamp\": \"timestamp\",\n",
    "    \"case:concept:name\": \"case_id\",\n",
    "})\n",
    "df = df[[\"case_id\", \"activity\", \"resource\", \"timestamp\"]].sort_values(by = [\"case_id\", \"timestamp\"])\n",
    "\n",
    "# Label Column\n",
    "df[\"next_activity\"] = df.groupby(\"case_id\")[\"activity\"].shift(-1)\n",
    "df = df[df[\"next_activity\"].notna()]"
   ]
  },
  {
   "cell_type": "code",
   "execution_count": 7,
   "id": "d3f02959-22a4-4653-887a-c4cd1b810e9b",
   "metadata": {},
   "outputs": [
    {
     "data": {
      "text/html": [
       "<div>\n",
       "<style scoped>\n",
       "    .dataframe tbody tr th:only-of-type {\n",
       "        vertical-align: middle;\n",
       "    }\n",
       "\n",
       "    .dataframe tbody tr th {\n",
       "        vertical-align: top;\n",
       "    }\n",
       "\n",
       "    .dataframe thead th {\n",
       "        text-align: right;\n",
       "    }\n",
       "</style>\n",
       "<table border=\"1\" class=\"dataframe\">\n",
       "  <thead>\n",
       "    <tr style=\"text-align: right;\">\n",
       "      <th></th>\n",
       "      <th>case_id</th>\n",
       "      <th>activity</th>\n",
       "      <th>resource</th>\n",
       "      <th>timestamp</th>\n",
       "      <th>next_activity</th>\n",
       "    </tr>\n",
       "  </thead>\n",
       "  <tbody>\n",
       "    <tr>\n",
       "      <th>17612</th>\n",
       "      <td>Case1</td>\n",
       "      <td>Assign seriousness</td>\n",
       "      <td>Value 1</td>\n",
       "      <td>2012-10-09 14:50:17+00:00</td>\n",
       "      <td>Take in charge ticket</td>\n",
       "    </tr>\n",
       "    <tr>\n",
       "      <th>17613</th>\n",
       "      <td>Case1</td>\n",
       "      <td>Take in charge ticket</td>\n",
       "      <td>Value 1</td>\n",
       "      <td>2012-10-09 14:51:01+00:00</td>\n",
       "      <td>Take in charge ticket</td>\n",
       "    </tr>\n",
       "    <tr>\n",
       "      <th>17614</th>\n",
       "      <td>Case1</td>\n",
       "      <td>Take in charge ticket</td>\n",
       "      <td>Value 2</td>\n",
       "      <td>2012-10-12 15:02:56+00:00</td>\n",
       "      <td>Resolve ticket</td>\n",
       "    </tr>\n",
       "    <tr>\n",
       "      <th>17615</th>\n",
       "      <td>Case1</td>\n",
       "      <td>Resolve ticket</td>\n",
       "      <td>Value 1</td>\n",
       "      <td>2012-10-25 11:54:26+00:00</td>\n",
       "      <td>Closed</td>\n",
       "    </tr>\n",
       "    <tr>\n",
       "      <th>212</th>\n",
       "      <td>Case10</td>\n",
       "      <td>Assign seriousness</td>\n",
       "      <td>Value 2</td>\n",
       "      <td>2010-02-10 08:50:20+00:00</td>\n",
       "      <td>Take in charge ticket</td>\n",
       "    </tr>\n",
       "    <tr>\n",
       "      <th>213</th>\n",
       "      <td>Case10</td>\n",
       "      <td>Take in charge ticket</td>\n",
       "      <td>Value 2</td>\n",
       "      <td>2010-03-19 08:47:06+00:00</td>\n",
       "      <td>Resolve ticket</td>\n",
       "    </tr>\n",
       "    <tr>\n",
       "      <th>214</th>\n",
       "      <td>Case10</td>\n",
       "      <td>Resolve ticket</td>\n",
       "      <td>Value 2</td>\n",
       "      <td>2010-03-19 08:47:13+00:00</td>\n",
       "      <td>Closed</td>\n",
       "    </tr>\n",
       "    <tr>\n",
       "      <th>19330</th>\n",
       "      <td>Case100</td>\n",
       "      <td>Assign seriousness</td>\n",
       "      <td>Value 1</td>\n",
       "      <td>2013-04-12 10:25:17+00:00</td>\n",
       "      <td>Take in charge ticket</td>\n",
       "    </tr>\n",
       "    <tr>\n",
       "      <th>19331</th>\n",
       "      <td>Case100</td>\n",
       "      <td>Take in charge ticket</td>\n",
       "      <td>Value 9</td>\n",
       "      <td>2013-04-24 10:24:01+00:00</td>\n",
       "      <td>Require upgrade</td>\n",
       "    </tr>\n",
       "    <tr>\n",
       "      <th>19332</th>\n",
       "      <td>Case100</td>\n",
       "      <td>Require upgrade</td>\n",
       "      <td>Value 9</td>\n",
       "      <td>2013-04-24 15:51:11+00:00</td>\n",
       "      <td>Resolve ticket</td>\n",
       "    </tr>\n",
       "    <tr>\n",
       "      <th>19333</th>\n",
       "      <td>Case100</td>\n",
       "      <td>Resolve ticket</td>\n",
       "      <td>Value 2</td>\n",
       "      <td>2013-05-15 13:21:00+00:00</td>\n",
       "      <td>Closed</td>\n",
       "    </tr>\n",
       "    <tr>\n",
       "      <th>65</th>\n",
       "      <td>Case1000</td>\n",
       "      <td>Assign seriousness</td>\n",
       "      <td>Value 2</td>\n",
       "      <td>2010-01-21 08:53:28+00:00</td>\n",
       "      <td>Assign seriousness</td>\n",
       "    </tr>\n",
       "    <tr>\n",
       "      <th>66</th>\n",
       "      <td>Case1000</td>\n",
       "      <td>Assign seriousness</td>\n",
       "      <td>Value 2</td>\n",
       "      <td>2010-01-21 08:53:34+00:00</td>\n",
       "      <td>Take in charge ticket</td>\n",
       "    </tr>\n",
       "    <tr>\n",
       "      <th>67</th>\n",
       "      <td>Case1000</td>\n",
       "      <td>Take in charge ticket</td>\n",
       "      <td>Value 2</td>\n",
       "      <td>2010-01-21 08:53:40+00:00</td>\n",
       "      <td>Resolve ticket</td>\n",
       "    </tr>\n",
       "    <tr>\n",
       "      <th>68</th>\n",
       "      <td>Case1000</td>\n",
       "      <td>Resolve ticket</td>\n",
       "      <td>Value 2</td>\n",
       "      <td>2010-01-26 14:06:53+00:00</td>\n",
       "      <td>Closed</td>\n",
       "    </tr>\n",
       "    <tr>\n",
       "      <th>18964</th>\n",
       "      <td>Case1001</td>\n",
       "      <td>Assign seriousness</td>\n",
       "      <td>Value 4</td>\n",
       "      <td>2013-03-08 17:01:24+00:00</td>\n",
       "      <td>Take in charge ticket</td>\n",
       "    </tr>\n",
       "    <tr>\n",
       "      <th>18965</th>\n",
       "      <td>Case1001</td>\n",
       "      <td>Take in charge ticket</td>\n",
       "      <td>Value 4</td>\n",
       "      <td>2013-03-25 08:08:33+00:00</td>\n",
       "      <td>Resolve ticket</td>\n",
       "    </tr>\n",
       "    <tr>\n",
       "      <th>18966</th>\n",
       "      <td>Case1001</td>\n",
       "      <td>Resolve ticket</td>\n",
       "      <td>Value 4</td>\n",
       "      <td>2013-03-28 10:31:21+00:00</td>\n",
       "      <td>Closed</td>\n",
       "    </tr>\n",
       "    <tr>\n",
       "      <th>2603</th>\n",
       "      <td>Case1002</td>\n",
       "      <td>Assign seriousness</td>\n",
       "      <td>Value 19</td>\n",
       "      <td>2010-08-25 10:36:10+00:00</td>\n",
       "      <td>Take in charge ticket</td>\n",
       "    </tr>\n",
       "    <tr>\n",
       "      <th>2604</th>\n",
       "      <td>Case1002</td>\n",
       "      <td>Take in charge ticket</td>\n",
       "      <td>Value 2</td>\n",
       "      <td>2010-08-27 07:34:45+00:00</td>\n",
       "      <td>Resolve ticket</td>\n",
       "    </tr>\n",
       "  </tbody>\n",
       "</table>\n",
       "</div>"
      ],
      "text/plain": [
       "        case_id               activity  resource                 timestamp  \\\n",
       "17612     Case1     Assign seriousness   Value 1 2012-10-09 14:50:17+00:00   \n",
       "17613     Case1  Take in charge ticket   Value 1 2012-10-09 14:51:01+00:00   \n",
       "17614     Case1  Take in charge ticket   Value 2 2012-10-12 15:02:56+00:00   \n",
       "17615     Case1         Resolve ticket   Value 1 2012-10-25 11:54:26+00:00   \n",
       "212      Case10     Assign seriousness   Value 2 2010-02-10 08:50:20+00:00   \n",
       "213      Case10  Take in charge ticket   Value 2 2010-03-19 08:47:06+00:00   \n",
       "214      Case10         Resolve ticket   Value 2 2010-03-19 08:47:13+00:00   \n",
       "19330   Case100     Assign seriousness   Value 1 2013-04-12 10:25:17+00:00   \n",
       "19331   Case100  Take in charge ticket   Value 9 2013-04-24 10:24:01+00:00   \n",
       "19332   Case100        Require upgrade   Value 9 2013-04-24 15:51:11+00:00   \n",
       "19333   Case100         Resolve ticket   Value 2 2013-05-15 13:21:00+00:00   \n",
       "65     Case1000     Assign seriousness   Value 2 2010-01-21 08:53:28+00:00   \n",
       "66     Case1000     Assign seriousness   Value 2 2010-01-21 08:53:34+00:00   \n",
       "67     Case1000  Take in charge ticket   Value 2 2010-01-21 08:53:40+00:00   \n",
       "68     Case1000         Resolve ticket   Value 2 2010-01-26 14:06:53+00:00   \n",
       "18964  Case1001     Assign seriousness   Value 4 2013-03-08 17:01:24+00:00   \n",
       "18965  Case1001  Take in charge ticket   Value 4 2013-03-25 08:08:33+00:00   \n",
       "18966  Case1001         Resolve ticket   Value 4 2013-03-28 10:31:21+00:00   \n",
       "2603   Case1002     Assign seriousness  Value 19 2010-08-25 10:36:10+00:00   \n",
       "2604   Case1002  Take in charge ticket   Value 2 2010-08-27 07:34:45+00:00   \n",
       "\n",
       "               next_activity  \n",
       "17612  Take in charge ticket  \n",
       "17613  Take in charge ticket  \n",
       "17614         Resolve ticket  \n",
       "17615                 Closed  \n",
       "212    Take in charge ticket  \n",
       "213           Resolve ticket  \n",
       "214                   Closed  \n",
       "19330  Take in charge ticket  \n",
       "19331        Require upgrade  \n",
       "19332         Resolve ticket  \n",
       "19333                 Closed  \n",
       "65        Assign seriousness  \n",
       "66     Take in charge ticket  \n",
       "67            Resolve ticket  \n",
       "68                    Closed  \n",
       "18964  Take in charge ticket  \n",
       "18965         Resolve ticket  \n",
       "18966                 Closed  \n",
       "2603   Take in charge ticket  \n",
       "2604          Resolve ticket  "
      ]
     },
     "execution_count": 7,
     "metadata": {},
     "output_type": "execute_result"
    }
   ],
   "source": [
    "df.head(20)"
   ]
  },
  {
   "cell_type": "markdown",
   "id": "632468a4-fe3a-4370-a864-661d52c2ecde",
   "metadata": {},
   "source": [
    "<h3>Train & Test Data Split</h3>"
   ]
  },
  {
   "cell_type": "code",
   "execution_count": 8,
   "id": "5b76cfb5-c1ab-4c13-b9ce-b0f36371a4b8",
   "metadata": {},
   "outputs": [],
   "source": [
    "from sklearn.model_selection import train_test_split\n",
    "\n",
    "unique_cases = df[\"case_id\"].unique()\n",
    "train_cases, test_cases = train_test_split(unique_cases, test_size = 0.2, random_state = 2025)\n",
    "\n",
    "train_df = df[df[\"case_id\"].isin(train_cases)]\n",
    "test_df = df[df[\"case_id\"].isin(test_cases)]"
   ]
  },
  {
   "cell_type": "markdown",
   "id": "cac0a957-2b84-40cd-8797-a6c21592aa8c",
   "metadata": {},
   "source": [
    "<h3>Encodings</h3>"
   ]
  },
  {
   "cell_type": "markdown",
   "id": "18014e41-e323-4357-9f8b-09474b81bd9a",
   "metadata": {},
   "source": [
    "<h5>One Hot Encoding</h5>"
   ]
  },
  {
   "cell_type": "code",
   "execution_count": 9,
   "id": "e7664870-3bc1-4f40-8a52-c82427419f97",
   "metadata": {},
   "outputs": [],
   "source": [
    "def one_hot_encoding(data, cols):\n",
    "    encoded_df = data.copy()\n",
    "    \n",
    "    for col in cols:\n",
    "        dummies = pd.get_dummies(encoded_df[col], prefix=col)\n",
    "        encoded_df = pd.concat([encoded_df.drop(columns=[col]), dummies], axis=1)\n",
    "    return encoded_df"
   ]
  },
  {
   "cell_type": "markdown",
   "id": "60f48333-ee7b-45c8-9537-2c8e8578fc53",
   "metadata": {},
   "source": [
    "<h5>Last State Encoding</h5>"
   ]
  },
  {
   "cell_type": "code",
   "execution_count": 10,
   "id": "71b64eea-2a04-48f2-b4bf-3a0d73f6d1e1",
   "metadata": {},
   "outputs": [
    {
     "ename": "SyntaxError",
     "evalue": "expected ':' (313013486.py, line 1)",
     "output_type": "error",
     "traceback": [
      "  \u001b[36mCell\u001b[39m\u001b[36m \u001b[39m\u001b[32mIn[10]\u001b[39m\u001b[32m, line 1\u001b[39m\n\u001b[31m    \u001b[39m\u001b[31mdef last_state_encoding(data)\u001b[39m\n                                 ^\n\u001b[31mSyntaxError\u001b[39m\u001b[31m:\u001b[39m expected ':'\n"
     ]
    }
   ],
   "source": [
    "def last_state_encoding(data):\n",
    "    "
   ]
  }
 ],
 "metadata": {
  "kernelspec": {
   "display_name": "Python 3 (ipykernel)",
   "language": "python",
   "name": "python3"
  },
  "language_info": {
   "codemirror_mode": {
    "name": "ipython",
    "version": 3
   },
   "file_extension": ".py",
   "mimetype": "text/x-python",
   "name": "python",
   "nbconvert_exporter": "python",
   "pygments_lexer": "ipython3",
   "version": "3.12.3"
  }
 },
 "nbformat": 4,
 "nbformat_minor": 5
}
